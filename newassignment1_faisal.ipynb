{
 "cells": [
  {
   "cell_type": "code",
   "execution_count": 1,
   "metadata": {},
   "outputs": [
    {
     "data": {
      "text/plain": [
       "'c:\\\\Users\\\\faisa\\\\OneDrive\\\\Desktop\\\\ML-Asignment\\\\ML-Assignment1'"
      ]
     },
     "execution_count": 1,
     "metadata": {},
     "output_type": "execute_result"
    }
   ],
   "source": [
    "import os\n",
    "os.getcwd()\n"
   ]
  },
  {
   "cell_type": "markdown",
   "metadata": {},
   "source": [
    "TASK 1"
   ]
  },
  {
   "cell_type": "code",
   "execution_count": 2,
   "metadata": {},
   "outputs": [
    {
     "name": "stdout",
     "output_type": "stream",
     "text": [
      "Note: you may need to restart the kernel to use updated packages.\n",
      "Requirement already satisfied: pandas in c:\\users\\faisa\\appdata\\local\\programs\\python\\python312\\lib\\site-packages (2.2.3)\n",
      "Requirement already satisfied: openpyxl in c:\\users\\faisa\\appdata\\local\\programs\\python\\python312\\lib\\site-packages (3.1.5)\n",
      "Requirement already satisfied: numpy>=1.26.0 in c:\\users\\faisa\\appdata\\local\\programs\\python\\python312\\lib\\site-packages (from pandas) (2.2.0)\n",
      "Requirement already satisfied: python-dateutil>=2.8.2 in c:\\users\\faisa\\appdata\\roaming\\python\\python312\\site-packages (from pandas) (2.9.0.post0)\n",
      "Requirement already satisfied: pytz>=2020.1 in c:\\users\\faisa\\appdata\\local\\programs\\python\\python312\\lib\\site-packages (from pandas) (2024.2)\n",
      "Requirement already satisfied: tzdata>=2022.7 in c:\\users\\faisa\\appdata\\local\\programs\\python\\python312\\lib\\site-packages (from pandas) (2024.2)\n",
      "Requirement already satisfied: et-xmlfile in c:\\users\\faisa\\appdata\\local\\programs\\python\\python312\\lib\\site-packages (from openpyxl) (2.0.0)\n",
      "Requirement already satisfied: six>=1.5 in c:\\users\\faisa\\appdata\\roaming\\python\\python312\\site-packages (from python-dateutil>=2.8.2->pandas) (1.16.0)\n"
     ]
    },
    {
     "name": "stderr",
     "output_type": "stream",
     "text": [
      "\n",
      "[notice] A new release of pip is available: 24.3.1 -> 25.0.1\n",
      "[notice] To update, run: python.exe -m pip install --upgrade pip\n"
     ]
    }
   ],
   "source": [
    "pip install pandas openpyxl"
   ]
  },
  {
   "cell_type": "code",
   "execution_count": 3,
   "metadata": {},
   "outputs": [
    {
     "name": "stdout",
     "output_type": "stream",
     "text": [
      "Requirement already satisfied: xlrd in c:\\users\\faisa\\appdata\\local\\programs\\python\\python312\\lib\\site-packages (2.0.1)\n",
      "Note: you may need to restart the kernel to use updated packages.\n"
     ]
    },
    {
     "name": "stderr",
     "output_type": "stream",
     "text": [
      "\n",
      "[notice] A new release of pip is available: 24.3.1 -> 25.0.1\n",
      "[notice] To update, run: python.exe -m pip install --upgrade pip\n"
     ]
    }
   ],
   "source": [
    "pip install xlrd"
   ]
  },
  {
   "cell_type": "code",
   "execution_count": 48,
   "metadata": {},
   "outputs": [
    {
     "data": {
      "text/html": [
       "<div>\n",
       "<style scoped>\n",
       "    .dataframe tbody tr th:only-of-type {\n",
       "        vertical-align: middle;\n",
       "    }\n",
       "\n",
       "    .dataframe tbody tr th {\n",
       "        vertical-align: top;\n",
       "    }\n",
       "\n",
       "    .dataframe thead th {\n",
       "        text-align: right;\n",
       "    }\n",
       "</style>\n",
       "<table border=\"1\" class=\"dataframe\">\n",
       "  <thead>\n",
       "    <tr style=\"text-align: right;\">\n",
       "      <th></th>\n",
       "      <th>pclass</th>\n",
       "      <th>survived</th>\n",
       "      <th>name</th>\n",
       "      <th>sex</th>\n",
       "      <th>age</th>\n",
       "      <th>sibsp</th>\n",
       "      <th>parch</th>\n",
       "      <th>ticket</th>\n",
       "      <th>fare</th>\n",
       "      <th>cabin</th>\n",
       "      <th>embarked</th>\n",
       "      <th>boat</th>\n",
       "      <th>body</th>\n",
       "      <th>home.dest</th>\n",
       "    </tr>\n",
       "  </thead>\n",
       "  <tbody>\n",
       "    <tr>\n",
       "      <th>0</th>\n",
       "      <td>1</td>\n",
       "      <td>1</td>\n",
       "      <td>Allen, Miss. Elisabeth Walton</td>\n",
       "      <td>female</td>\n",
       "      <td>29.0000</td>\n",
       "      <td>0</td>\n",
       "      <td>0</td>\n",
       "      <td>24160</td>\n",
       "      <td>211.3375</td>\n",
       "      <td>B5</td>\n",
       "      <td>S</td>\n",
       "      <td>2</td>\n",
       "      <td>NaN</td>\n",
       "      <td>St Louis, MO</td>\n",
       "    </tr>\n",
       "    <tr>\n",
       "      <th>1</th>\n",
       "      <td>1</td>\n",
       "      <td>1</td>\n",
       "      <td>Allison, Master. Hudson Trevor</td>\n",
       "      <td>male</td>\n",
       "      <td>0.9167</td>\n",
       "      <td>1</td>\n",
       "      <td>2</td>\n",
       "      <td>113781</td>\n",
       "      <td>151.5500</td>\n",
       "      <td>C22 C26</td>\n",
       "      <td>S</td>\n",
       "      <td>11</td>\n",
       "      <td>NaN</td>\n",
       "      <td>Montreal, PQ / Chesterville, ON</td>\n",
       "    </tr>\n",
       "    <tr>\n",
       "      <th>2</th>\n",
       "      <td>1</td>\n",
       "      <td>0</td>\n",
       "      <td>Allison, Miss. Helen Loraine</td>\n",
       "      <td>female</td>\n",
       "      <td>2.0000</td>\n",
       "      <td>1</td>\n",
       "      <td>2</td>\n",
       "      <td>113781</td>\n",
       "      <td>151.5500</td>\n",
       "      <td>C22 C26</td>\n",
       "      <td>S</td>\n",
       "      <td>NaN</td>\n",
       "      <td>NaN</td>\n",
       "      <td>Montreal, PQ / Chesterville, ON</td>\n",
       "    </tr>\n",
       "    <tr>\n",
       "      <th>3</th>\n",
       "      <td>1</td>\n",
       "      <td>0</td>\n",
       "      <td>Allison, Mr. Hudson Joshua Creighton</td>\n",
       "      <td>male</td>\n",
       "      <td>30.0000</td>\n",
       "      <td>1</td>\n",
       "      <td>2</td>\n",
       "      <td>113781</td>\n",
       "      <td>151.5500</td>\n",
       "      <td>C22 C26</td>\n",
       "      <td>S</td>\n",
       "      <td>NaN</td>\n",
       "      <td>135.0</td>\n",
       "      <td>Montreal, PQ / Chesterville, ON</td>\n",
       "    </tr>\n",
       "    <tr>\n",
       "      <th>4</th>\n",
       "      <td>1</td>\n",
       "      <td>0</td>\n",
       "      <td>Allison, Mrs. Hudson J C (Bessie Waldo Daniels)</td>\n",
       "      <td>female</td>\n",
       "      <td>25.0000</td>\n",
       "      <td>1</td>\n",
       "      <td>2</td>\n",
       "      <td>113781</td>\n",
       "      <td>151.5500</td>\n",
       "      <td>C22 C26</td>\n",
       "      <td>S</td>\n",
       "      <td>NaN</td>\n",
       "      <td>NaN</td>\n",
       "      <td>Montreal, PQ / Chesterville, ON</td>\n",
       "    </tr>\n",
       "  </tbody>\n",
       "</table>\n",
       "</div>"
      ],
      "text/plain": [
       "   pclass  survived                                             name     sex  \\\n",
       "0       1         1                    Allen, Miss. Elisabeth Walton  female   \n",
       "1       1         1                   Allison, Master. Hudson Trevor    male   \n",
       "2       1         0                     Allison, Miss. Helen Loraine  female   \n",
       "3       1         0             Allison, Mr. Hudson Joshua Creighton    male   \n",
       "4       1         0  Allison, Mrs. Hudson J C (Bessie Waldo Daniels)  female   \n",
       "\n",
       "       age  sibsp  parch  ticket      fare    cabin embarked boat   body  \\\n",
       "0  29.0000      0      0   24160  211.3375       B5        S    2    NaN   \n",
       "1   0.9167      1      2  113781  151.5500  C22 C26        S   11    NaN   \n",
       "2   2.0000      1      2  113781  151.5500  C22 C26        S  NaN    NaN   \n",
       "3  30.0000      1      2  113781  151.5500  C22 C26        S  NaN  135.0   \n",
       "4  25.0000      1      2  113781  151.5500  C22 C26        S  NaN    NaN   \n",
       "\n",
       "                         home.dest  \n",
       "0                     St Louis, MO  \n",
       "1  Montreal, PQ / Chesterville, ON  \n",
       "2  Montreal, PQ / Chesterville, ON  \n",
       "3  Montreal, PQ / Chesterville, ON  \n",
       "4  Montreal, PQ / Chesterville, ON  "
      ]
     },
     "execution_count": 48,
     "metadata": {},
     "output_type": "execute_result"
    }
   ],
   "source": [
    "import pandas as pd\n",
    "file_path = \"C:/Users/faisa/OneDrive/Desktop/ML-Asignment/titanic3.xls\"\n",
    "df = pd.read_excel(file_path)\n",
    "df.head()"
   ]
  },
  {
   "cell_type": "code",
   "execution_count": 5,
   "metadata": {},
   "outputs": [
    {
     "name": "stdout",
     "output_type": "stream",
     "text": [
      "Dataset shape: (1309, 14)\n"
     ]
    }
   ],
   "source": [
    "print((\"Dataset shape:\"),df.shape)"
   ]
  },
  {
   "cell_type": "code",
   "execution_count": 6,
   "metadata": {},
   "outputs": [
    {
     "name": "stdout",
     "output_type": "stream",
     "text": [
      "Coloumn info:\n",
      "<class 'pandas.core.frame.DataFrame'>\n",
      "RangeIndex: 1309 entries, 0 to 1308\n",
      "Data columns (total 14 columns):\n",
      " #   Column     Non-Null Count  Dtype  \n",
      "---  ------     --------------  -----  \n",
      " 0   pclass     1309 non-null   int64  \n",
      " 1   survived   1309 non-null   int64  \n",
      " 2   name       1309 non-null   object \n",
      " 3   sex        1309 non-null   object \n",
      " 4   age        1046 non-null   float64\n",
      " 5   sibsp      1309 non-null   int64  \n",
      " 6   parch      1309 non-null   int64  \n",
      " 7   ticket     1309 non-null   object \n",
      " 8   fare       1308 non-null   float64\n",
      " 9   cabin      295 non-null    object \n",
      " 10  embarked   1307 non-null   object \n",
      " 11  boat       486 non-null    object \n",
      " 12  body       121 non-null    float64\n",
      " 13  home.dest  745 non-null    object \n",
      "dtypes: float64(3), int64(4), object(7)\n",
      "memory usage: 143.3+ KB\n",
      "None\n"
     ]
    }
   ],
   "source": [
    "print(\"Coloumn info:\")\n",
    "print(df.info())"
   ]
  },
  {
   "cell_type": "code",
   "execution_count": 7,
   "metadata": {},
   "outputs": [
    {
     "name": "stdout",
     "output_type": "stream",
     "text": [
      "Missing values number:\n",
      "pclass          0\n",
      "survived        0\n",
      "name            0\n",
      "sex             0\n",
      "age           263\n",
      "sibsp           0\n",
      "parch           0\n",
      "ticket          0\n",
      "fare            1\n",
      "cabin        1014\n",
      "embarked        2\n",
      "boat          823\n",
      "body         1188\n",
      "home.dest     564\n",
      "dtype: int64\n"
     ]
    }
   ],
   "source": [
    "print(\"Missing values number:\")\n",
    "print(df.isnull().sum())"
   ]
  },
  {
   "cell_type": "code",
   "execution_count": 8,
   "metadata": {},
   "outputs": [
    {
     "name": "stdout",
     "output_type": "stream",
     "text": [
      "pclass         int64\n",
      "survived       int64\n",
      "name          object\n",
      "sex           object\n",
      "age          float64\n",
      "sibsp          int64\n",
      "parch          int64\n",
      "ticket        object\n",
      "fare         float64\n",
      "cabin         object\n",
      "embarked      object\n",
      "boat          object\n",
      "body         float64\n",
      "home.dest     object\n",
      "dtype: object\n"
     ]
    }
   ],
   "source": [
    "print(df.dtypes)"
   ]
  },
  {
   "cell_type": "code",
   "execution_count": 9,
   "metadata": {},
   "outputs": [
    {
     "name": "stdout",
     "output_type": "stream",
     "text": [
      "Summary Statistics: \n",
      "            pclass     survived          age        sibsp        parch  \\\n",
      "count  1309.000000  1309.000000  1046.000000  1309.000000  1309.000000   \n",
      "mean      2.294882     0.381971    29.881135     0.498854     0.385027   \n",
      "std       0.837836     0.486055    14.413500     1.041658     0.865560   \n",
      "min       1.000000     0.000000     0.166700     0.000000     0.000000   \n",
      "25%       2.000000     0.000000    21.000000     0.000000     0.000000   \n",
      "50%       3.000000     0.000000    28.000000     0.000000     0.000000   \n",
      "75%       3.000000     1.000000    39.000000     1.000000     0.000000   \n",
      "max       3.000000     1.000000    80.000000     8.000000     9.000000   \n",
      "\n",
      "              fare        body  \n",
      "count  1308.000000  121.000000  \n",
      "mean     33.295479  160.809917  \n",
      "std      51.758668   97.696922  \n",
      "min       0.000000    1.000000  \n",
      "25%       7.895800   72.000000  \n",
      "50%      14.454200  155.000000  \n",
      "75%      31.275000  256.000000  \n",
      "max     512.329200  328.000000  \n"
     ]
    }
   ],
   "source": [
    "print(\"Summary Statistics: \")\n",
    "print(df.describe())"
   ]
  },
  {
   "cell_type": "code",
   "execution_count": 10,
   "metadata": {},
   "outputs": [
    {
     "name": "stdout",
     "output_type": "stream",
     "text": [
      "Unique values in categorical columns:\n",
      "name: 1307 unique values\n",
      "sex: 2 unique values\n",
      "ticket: 939 unique values\n",
      "cabin: 186 unique values\n",
      "embarked: 3 unique values\n",
      "boat: 28 unique values\n",
      "home.dest: 369 unique values\n"
     ]
    }
   ],
   "source": [
    "print(\"Unique values in categorical columns:\")\n",
    "categorical_columns = df.select_dtypes(include=['object']).columns\n",
    "for col in categorical_columns:\n",
    "    print(f\"{col}: {df[col].nunique()} unique values\")\n"
   ]
  },
  {
   "cell_type": "code",
   "execution_count": 11,
   "metadata": {},
   "outputs": [
    {
     "data": {
      "image/png": "[encoded data removed]",
      "text/plain": [
       "<Figure size 1200x800 with 9 Axes>"
      ]
     },
     "metadata": {},
     "output_type": "display_data"
    }
   ],
   "source": [
    "import matplotlib.pyplot as plt\n",
    "df.hist(figsize=(12,8), bins = 20)\n",
    "plt.show()"
   ]
  },
  {
   "cell_type": "markdown",
   "metadata": {},
   "source": [
    "This histogram plot shows the distribution of numerical variables in the dataset. Pclass and survived are categorical, as they have more passengers in 3rd class and fewer survivors. Fare is right-skewed which means most passengers paid more lower fares with some high amounts. SipSp and parch have many passengers with 0 relatives, but a few had large families, but some had large families. Body is uniformly distributed as it might have some missing values."
   ]
  },
  {
   "cell_type": "code",
   "execution_count": 12,
   "metadata": {},
   "outputs": [
    {
     "data": {
      "image/png": "[encoded data removed]",
      "text/plain": [
       "<Figure size 1000x600 with 1 Axes>"
      ]
     },
     "metadata": {},
     "output_type": "display_data"
    }
   ],
   "source": [
    "import seaborn as sns\n",
    "plt.figure(figsize=(10,6))\n",
    "sns.boxplot(data=df)\n",
    "plt.xticks(rotation=90)\n",
    "plt.show()"
   ]
  },
  {
   "cell_type": "markdown",
   "metadata": {},
   "source": [
    "As you can see, pclass and survived have no variability since they are categorical, age has moderate spread with some outliers while sibsp and parch show small values with a few large families. Fare has many extreme outliers, idicating that some people paid a lot for thei ticket. Body has the largest spread, as it may have some missing values."
   ]
  },
  {
   "cell_type": "code",
   "execution_count": 13,
   "metadata": {},
   "outputs": [],
   "source": [
    "df_numeric = df.select_dtypes(include=['number'])"
   ]
  },
  {
   "cell_type": "code",
   "execution_count": 14,
   "metadata": {},
   "outputs": [
    {
     "data": {
      "image/png": "[encoded data removed]",
      "text/plain": [
       "<Figure size 1000x600 with 2 Axes>"
      ]
     },
     "metadata": {},
     "output_type": "display_data"
    }
   ],
   "source": [
    "plt.figure(figsize=(10,6))\n",
    "sns.heatmap(df_numeric.corr(), annot = True, cmap= 'coolwarm', fmt=\".2f\")\n",
    "plt.show()"
   ]
  },
  {
   "cell_type": "markdown",
   "metadata": {},
   "source": [
    "This correlation heatmap shows relationships between numerical variables. Pclass and fare have a very strong negative correlation of -0.56, this means higher class passengers paid more. Survived and pclass also has a negative correlation of -0.31 meaning higher-class passengers had a higher survival rate. Sibsp and parch are positively correlated this means that families travelled together. Fare has a weak positive correlations with survived and parch (0.24,0.22). this means that passengers with higher price tickets and families had a better chance of survival. Body has low correlations meaning it does not strongly relate to any other features."
   ]
  },
  {
   "cell_type": "markdown",
   "metadata": {},
   "source": [
    "TASK 2"
   ]
  },
  {
   "cell_type": "code",
   "execution_count": 19,
   "metadata": {},
   "outputs": [
    {
     "name": "stdout",
     "output_type": "stream",
     "text": [
      "Missing values per column:\n",
      " age           263\n",
      "fare            1\n",
      "cabin        1014\n",
      "embarked        2\n",
      "boat          823\n",
      "body         1188\n",
      "home.dest     564\n",
      "dtype: int64\n",
      "\n",
      "Percentage of missing values:\n",
      " age          20.091673\n",
      "fare          0.076394\n",
      "cabin        77.463713\n",
      "embarked      0.152788\n",
      "boat         62.872422\n",
      "body         90.756303\n",
      "home.dest    43.086325\n",
      "dtype: float64\n"
     ]
    }
   ],
   "source": [
    "missing_values = df.isnull().sum()\n",
    "print(\"Missing values per column:\\n\", missing_values[missing_values > 0])\n",
    "missing_percentage = (df.isnull().sum() / len(df)) * 100\n",
    "print(\"\\nPercentage of missing values:\\n\", missing_percentage[missing_percentage > 0])\n",
    "\n",
    "\n"
   ]
  },
  {
   "cell_type": "markdown",
   "metadata": {},
   "source": []
  },
  {
   "cell_type": "code",
   "execution_count": 50,
   "metadata": {},
   "outputs": [
    {
     "name": "stderr",
     "output_type": "stream",
     "text": [
      "C:\\Users\\faisa\\AppData\\Local\\Temp\\ipykernel_6216\\3926561171.py:6: FutureWarning: A value is trying to be set on a copy of a DataFrame or Series through chained assignment using an inplace method.\n",
      "The behavior will change in pandas 3.0. This inplace method will never work because the intermediate object on which we are setting values always behaves as a copy.\n",
      "\n",
      "For example, when doing 'df[col].method(value, inplace=True)', try using 'df.method({col: value}, inplace=True)' or df[col] = df[col].method(value) instead, to perform the operation inplace on the original object.\n",
      "\n",
      "\n",
      "  df[col].fillna(mode_value.iloc[0], inplace=True)\n"
     ]
    }
   ],
   "source": [
    "df.fillna(df.median(numeric_only=True), inplace=True)  \n",
    "\n",
    "for col in df.select_dtypes(include=['object']).columns:\n",
    "    mode_value = df[col].mode()  \n",
    "    if not mode_value.empty:  \n",
    "        df[col].fillna(mode_value.iloc[0], inplace=True)  "
   ]
  },
  {
   "cell_type": "markdown",
   "metadata": {},
   "source": [
    "I decided to fill the missing values in numerical values with the median, as the median is less affected by extreme values than the mean, I also filled the missing values in categorical values with the mode."
   ]
  },
  {
   "cell_type": "code",
   "execution_count": 51,
   "metadata": {},
   "outputs": [
    {
     "name": "stdout",
     "output_type": "stream",
     "text": [
      "pclass       0\n",
      "survived     0\n",
      "name         0\n",
      "sex          0\n",
      "age          0\n",
      "sibsp        0\n",
      "parch        0\n",
      "ticket       0\n",
      "fare         0\n",
      "cabin        0\n",
      "embarked     0\n",
      "boat         0\n",
      "body         0\n",
      "home.dest    0\n",
      "dtype: int64\n"
     ]
    }
   ],
   "source": [
    "print(df.isnull().sum()) \n"
   ]
  },
  {
   "cell_type": "markdown",
   "metadata": {},
   "source": [
    "This here shows that there are no more missing values."
   ]
  },
  {
   "cell_type": "code",
   "execution_count": 52,
   "metadata": {},
   "outputs": [],
   "source": [
    "df.to_csv(\"cleaned_dataset.csv\", index=False)\n"
   ]
  },
  {
   "cell_type": "markdown",
   "metadata": {},
   "source": [
    "TASK 3"
   ]
  },
  {
   "cell_type": "code",
   "execution_count": 53,
   "metadata": {},
   "outputs": [
    {
     "name": "stdout",
     "output_type": "stream",
     "text": [
      "Categorical Columns: Index(['name', 'sex', 'ticket', 'cabin', 'embarked', 'boat', 'home.dest'], dtype='object')\n"
     ]
    }
   ],
   "source": [
    "categorical_columns = df.select_dtypes(include=['object']).columns\n",
    "print(\"Categorical Columns:\", categorical_columns)\n"
   ]
  },
  {
   "cell_type": "markdown",
   "metadata": {},
   "source": [
    "These are all the categorical values that we have in our data."
   ]
  },
  {
   "cell_type": "code",
   "execution_count": 54,
   "metadata": {},
   "outputs": [
    {
     "name": "stdout",
     "output_type": "stream",
     "text": [
      "(1309, 14)\n"
     ]
    }
   ],
   "source": [
    "print(df.shape)\n"
   ]
  },
  {
   "cell_type": "code",
   "execution_count": 56,
   "metadata": {},
   "outputs": [],
   "source": [
    "from sklearn.preprocessing import OneHotEncoder\n"
   ]
  },
  {
   "cell_type": "code",
   "execution_count": 57,
   "metadata": {},
   "outputs": [],
   "source": [
    "categorical_columns = df.select_dtypes(include=['object']).columns"
   ]
  },
  {
   "cell_type": "code",
   "execution_count": 59,
   "metadata": {},
   "outputs": [
    {
     "name": "stdout",
     "output_type": "stream",
     "text": [
      "name: ['Allen, Miss. Elisabeth Walton' 'Allison, Master. Hudson Trevor'\n",
      " 'Allison, Miss. Helen Loraine' ... 'Zakarian, Mr. Mapriededer'\n",
      " 'Zakarian, Mr. Ortin' 'Zimmerman, Mr. Leo']\n",
      "sex: ['female' 'male']\n",
      "ticket: [24160 113781 19952 13502 112050 11769 'PC 17609' 'PC 17757' 'PC 17477'\n",
      " 19877 27042 'PC 17318' 'PC 17558' 11813 13050 11751 111369 'PC 17483'\n",
      " 13905 11967 'PC 17760' 110564 113784 112277 36928 113783 110489\n",
      " 'PC 17608' 113505 111427 113054 'PC 17591' 112379 'PC 17610' 16966 113050\n",
      " 113798 'PC 17476' 'PC 17606' 'PC 17755' 695 113059 113760 19924 17770\n",
      " 'W.E.P. 5734' 113806 110152 'PC 17594' 112051 13508 110465 5727\n",
      " 'PC 17756' 11770 113791 'WE/P 5735' 112901 'PC 17599' 113055 113804\n",
      " 'F.C. 12750' 17474 33638 'PC 17761' 11755 'PC 17485' 'PC 17580' 11767\n",
      " 36947 'PC 17531' 'PC 17598' '17421' 'PC 17474' '113051' '19950' '113778'\n",
      " 'PC 17611' '17765' '13568' '13567' '112058' '113803' '111320' '113503'\n",
      " '112378' 'PC 17593' '17453' 'PC 17754' '113780' '112053' 'PC 17582'\n",
      " 'PC 17759' '11765' 'PC 17572' '113796' '36973' '112059' '16988' '11767'\n",
      " '12749' '113038' '17463' '680' '111361' '13502' '113789' '111426' '19943'\n",
      " 'PC 17600' '113572' 'PC 17595' '694' '113044' '11771' '17464' '11753'\n",
      " '113028' '24160' '17465' 'PC 17612' '17475' '112377' 'PC 17592' '113501'\n",
      " '113801' 'PC 17569' '110469' '110152' '11774' '113773' 'PC 17482' '13050'\n",
      " 'PC 17473' 'PC 17604' '13509' '19928' '13236' '113787' 'PC 17596' '35273'\n",
      " '11752' '693' 'PC 17758' 'F.C. 12998' '113509' 'PC 17562' '112052'\n",
      " '113043' '113776' '113786' '110465' '19972' 'PC 17607' 'PC 17590'\n",
      " '111428' '113767' 'PC 17613' 'PC 17585' '13049' 'PC 17603' '113790'\n",
      " '19988' '111163' '113798' '113794' 'PC 17475' '13507' '13213' '113788'\n",
      " '113792' '17764' '13695' '113056' '21228' '16966' '13214' '113514'\n",
      " '11778' '36947' 'PC 17605' '36963' '17466' '110413' '19996' '2543'\n",
      " 'PC 17601' '111240' '36967' '110813' '113800' '35281' '36928' '113795'\n",
      " 'PC 17597' '113510' '19947' '113807' 'P/PP 3381' '248744' '231945'\n",
      " 'C.A. 34050' '226875' '244346' '29108' 'C.A. 31030' '28551'\n",
      " 'C.A./SOTON 34068' 'S.O.P. 1166' '2908' '244358' '230136' '248698'\n",
      " '28404' '28425' '237670' '211535' '220367' '248733' '29750' '236853'\n",
      " '27849' '234686' '244310' '236852' '248738' 'F.C.C. 13528' '239853'\n",
      " '28424' '244252' '248731' 'SC/AH 29037' '237789' '2003' 'W./C. 14263'\n",
      " '248740' '28034' 'C.A. 31921' 'W./C. 14266' '237249' 'F.C.C. 13534'\n",
      " '29107' 'C.A. 33112' 'S.O.C. 14879' '237668' '244360' 'SC/PARIS 2167'\n",
      " 'C.A. 31029' '231919' '28403' '28220' 'SC/PARIS 2149' 'SC/PARIS 2148'\n",
      " '29751' '236854' '236171' '2926' 'C.A. 15185' '229236' '239854' '237671'\n",
      " '239865' '28664' '243880' '31028' 'C.A. 30769' '28133' '28134' '248726'\n",
      " '233866' '12233' '250646' '250647' '250653' '250649' '248746' '248727'\n",
      " 'S.W./PP 752' 'W/C 14208' 'F.C.C. 13529' '220845' '248706' '250650'\n",
      " '29105' '29104' '242963' '250643' '26707' '237798' '24065' 'SCO/W 1585'\n",
      " 'SO/C 14885' '243847' '237565' 'C.A. 33111' 'SC/AH Basle 541' '244367'\n",
      " '226593' '233734' '223596' '219533' '239855' 'C.A. 18723' '250651'\n",
      " '240261' 'SC/Paris 2123' 'SC 1748' 'C.A. 34260' 'SC/Paris 2163'\n",
      " 'C.A. 29566' '235509' 'SC/AH 3085' 'S.O./P.P. 3' '237735'\n",
      " 'S.C./PARIS 2079' 'SC/A.3 2861' '28228' '239059' '237216' '233478'\n",
      " '250644' 'SW/PP 751' '248723' '234360' 'C.A. 24580' '211536' '29011'\n",
      " '250655' '240276' '237736' '230080' '244368' '218629' 'SC/PARIS 2166'\n",
      " 'C.A. 29395' '28213' 'W./C. 14260' 'SC/PARIS 2146' '244278'\n",
      " 'SC/PARIS 2147' 'SC 14888' '230433' '28665' 'SC/PARIS 2131' '237393'\n",
      " 'S.O./P.P. 2' '234604' 'C.A. 34644' 'SC/PARIS 2168' '26360' 'C.A. 17248'\n",
      " '31027' '230434' 'SC/PARIS 2133' '29106' 'W./C. 14258' '28004'\n",
      " 'C.A. 31026' '248659' '244361' '250652' '250648' '237442' '234818'\n",
      " '28206' '31418' 'C.A. 29178' '237734' 'F.C.C. 13540' '248734'\n",
      " 'F.C.C. 13531' '233639' '240929' '34218' '11668' '28221' 'CA 31352'\n",
      " '28666' '239856' 'C.A. 33595' '27267' '228414' '29103' 'C.A. 34651'\n",
      " 'C.A. 24579' 'SC/PARIS 2159' '244270' '244373' '220844' '248747'\n",
      " 'C.A. 5547' 'C.A. 2673' '348125' '348122' 'SOTON/O2 3101284' '2657'\n",
      " 'C 7076' '341826' '7546' '392091' '2699' '3474' 'SOTON/O2 3101287'\n",
      " 'SOTON/O.Q. 3101311' 'SOTON/O.Q. 3101312' '373450' '2223' 'C 4001'\n",
      " '350046' '347082' '3101281' '347091' '350043' '347075' '347466' '349202'\n",
      " '349237' '349911' 'SOTON/O.Q. 3101310' '347077' '350054' '2696' '2692'\n",
      " 'SOTON/O.Q. 3101309' '2627' '2694' '347468' '2687' '2679' '3101278'\n",
      " '2666' 'A/4 31416' '2623' '349248' '2663' '2691' '330844' '324669'\n",
      " '323951' '347068' 'PP 4348' '2622' '2648' '1601' '312992' '347090'\n",
      " '349224' '2678' '2664' '364848' '364849' '54636' '334914' '347471' '3460'\n",
      " 'A/5 21171' '350045' '364512' '329944' '330920' '365222' '330963'\n",
      " '315087' '315084' '315091' '315089' '315093' '315086' '364846' '364858'\n",
      " 'A./5. 2152' '2689' '350042' '350409' '367231' '368364' '392095' '343275'\n",
      " 'A/5. 13032' '343276' '2680' 'SOTON/O.Q. 3101307' 'A/5 3540' '371109'\n",
      " '349210' '349209' '21332' '335097' '370373' '330972' '370369' 'A/5 3536'\n",
      " '349230' '349229' '349231' 'SOTON/OQ 392090' 'C.A. 37671' '364500'\n",
      " 'S.P. 3464' '371362' '315090' '2698' '7598' '7552' '349228' '382650'\n",
      " '382651' '347080' '349219' '349203' 'A/4 48871' 'SC/A4 23568' 'A/4 48873'\n",
      " '386525' '345572' '345774' '345778' 'C.A. 2315' '349250' '349238'\n",
      " '349225' 'A/5 21172' 'A/5 21175' '330958' '349232' '315088' '349226'\n",
      " '2686' '370376' 'A/5. 10482' '364516' '368702' 'SOTON/OQ 392083' '349241'\n",
      " '336439' 'S.O./P.P. 752' '347072' '349912' '347074' '347061' '2674'\n",
      " '2675' '2690' '2695' 'A/5 3902' '2631' 'C.A. 6212' '367232'\n",
      " 'SOTON/O.Q. 3101308' '350036' '364859' '364851' '368323' '330910'\n",
      " '365235' 'W./C. 6608' 'A/5 1478' '368573' 'SOTON/O.Q. 3101314' '36864'\n",
      " '358585' '349254' '14973' '35851' '335677' '363291' 'SOTON/O.Q. 3101263'\n",
      " 'SOTON/O.Q. 3101306' 'CA 2144' '21440' '8471' '376563' '7534' '3101276'\n",
      " '3101277' '347069' '349236' 'AQ/3. 30631' '65303' '65304'\n",
      " 'STON/O2. 3101279' '345769' '2693' '350026' '350025' '350029'\n",
      " 'W./C. 6609' '374887' '394140' '370375' '347089' '365226'\n",
      " 'STON/O2. 3101282' 'STON/O2. 3101290' '7548' '349243' '347086' '382649'\n",
      " '3101298' 'C 7075' 'STON/O2. 3101283' '370377' 'A. 2. 39186' '348121'\n",
      " '3470' '2685' '349220' 'STON/O2. 3101270' 'STON/O2. 3101271' '349201'\n",
      " '349240' '350034' 'SOTON/O.Q. 3101305' '350050' '350047' '350048' '14313'\n",
      " '65306' '3101264' '347070' '350052' '7540' '347063' '347467' '347742'\n",
      " 'LINE' '347062' 'W./C. 6607' '349204' '350417' '350408' '4136' '4137'\n",
      " 'STON/O 2. 3101286' 'STON/O 2. 3101274' '8475' '349246' '350053' '347465'\n",
      " '350060' '349256' '2700' '2682' '12460' '323592' '9234' '14312' '330911'\n",
      " '363592' '368783' '2660' '367227' '367229' '36865' '315152' '315151'\n",
      " '315153' '350405' '350404' '349253' '2654' '2624' '4135' '349217'\n",
      " 'C 7077' '7935' '7545' '347067' '347065' '2620' '4133'\n",
      " 'STON/O 2. 3101292' '2683' '370371' '345781' '347071' '347073' '349910'\n",
      " 'STON/O 2. 3101285' '330971' 'S.O./P.P. 251' 'A/5. 3336' '1222'\n",
      " 'A/5 21173' '315098' '347743' '347469' '350403' '349235' 'C.A. 42795'\n",
      " '370370' 'C 17369' 'STON/O 2. 3101275' '330924' 'AQ/4 3130' 'A/S 2816'\n",
      " 'STON/O 2. 3101268' '2677' '364850' '36866' '2655' '349213' '349257'\n",
      " '2649' '349255' '383123' '367228' '367226' '330932' '36568' '330931'\n",
      " '330923' '9232' '370372' '376566' '370368' 'SOTON/O.Q. 392087' '343095'\n",
      " 'A.5. 11206' '368703' '345501' '359306' '349233' '349211' '349207'\n",
      " '349221' '330980' '348123' '392096' 'A4. 54510' '371110' '330877'\n",
      " '364506' '372622' '312991' '2661' '2626' '374746' '35852' '382653'\n",
      " 'A./5. 3235' '367230' '347078' '349206' '2667' '2653' 'A./5. 3338'\n",
      " '349218' '2652' '365237' '349234' '2651' '3101297' '363611' '347066'\n",
      " '347470' '350410' 'SOTON/O2 3101272' 'STON/O 2. 3101289' 'A/4. 39886'\n",
      " '2697' '347081' '345364' '370365' '330979' '334912' '371060' '366713'\n",
      " '7267' '364856' '14311' '330959' '347085' '368402' '330919' 'C 17368'\n",
      " '4579' 'Fa 265302' '350407' '347464' '347079' '6563' '315085' '315096'\n",
      " '315094' '349244' '330909' '349909' '3101295' '315097' '3411' '349242'\n",
      " 'SOTON/O.Q. 3101315' '343271' '345498' 'A/5 2817' 'STON/O 2. 3101294'\n",
      " 'STON/O 2. 3101291' 'A/5 21174' '347083' '2668' '330935' '342441'\n",
      " '349245' '349212' '349215' '347076' '347087' 'SOTON/O.Q. 392078' '349227'\n",
      " '315095' '315092' '349223' '65305' '2629' '362316' '349249' '342684'\n",
      " '382652' 'STON/O 2. 3101273' '334915' '364498' 'A/5. 3337'\n",
      " 'S.C./A.4. 23567' '312993' '370129' '342712' 'A/5 3594' 'A/4. 20589'\n",
      " '383162' '2671' '2672' '2676' '367655' 'LP 1588' 'SOTON/O.Q. 3101262'\n",
      " 'CA. 2343' '7266' '343120' '3101296' '2662' 'PP 9549' '345768'\n",
      " 'A/5. 2151' '342826' '36209' '349222' '370374' '345779' '330968' '374910'\n",
      " 'SOTON/OQ 392082' '2669' '392092' '349251' 'STON/O 2. 3101280' '3101265'\n",
      " '347088' '349214' 'SOTON/OQ 392086' '315037' '384461' '335432' '348124'\n",
      " 'A.5. 18509' 'A.5. 3236' 'STON/OQ. 369943' '349208' '349239' 'CA. 2314'\n",
      " 'A/4 45380' '3701' '349205' '7553' 'STON/O 2. 3101288' '315083' '347054'\n",
      " 'SOTON/OQ 392089' 'STON/O 2. 3101269' 'SOTON/OQ 392076' '347060' '7538'\n",
      " '350035' '350033' '363294' '2625' '2621' '2681' '2684' '32302' '376564'\n",
      " 'STON/O 2. 3101293' '383121' '349216' '364499' '364511' '2673' '2641'\n",
      " '2650' '349247' '4138' '4134' 'A/5. 851' '345773' '345777' '345780'\n",
      " '345770' '345783' '345765' '345764' '345763' '2658' '350416' '350406'\n",
      " '349252' '345767' '359309' 'C.A. 49867' 'SOTON/OQ 3101316' '345775'\n",
      " '2688' '347064' '3101267' '3101266' '363272' '3410' 'S.O./P.P. 751'\n",
      " 'A/5 2466' 'SOTON/OQ 3101317' '315154' 'A/4. 34244' '345771' '2659'\n",
      " '2628' '2647' '2665' '2656' '2670' '315082']\n",
      "cabin: ['B5' 'C22 C26' 'E12' 'D7' 'A36' 'C101' 'C23 C25 C27' 'C62 C64' 'B35'\n",
      " 'A23' 'B58 B60' 'D15' 'C6' 'D35' 'C148' 'C97' 'B49' 'C99' 'C52' 'T' 'A31'\n",
      " 'C7' 'C103' 'D22' 'E33' 'A21' 'B10' 'B4' 'E40' 'B38' 'E24' 'B51 B53 B55'\n",
      " 'B96 B98' 'C46' 'E31' 'E8' 'B61' 'B77' 'A9' 'C89' 'A14' 'E58' 'E49' 'E52'\n",
      " 'E45' 'B22' 'B26' 'C85' 'E17' 'B71' 'B20' 'A34' 'C86' 'A16' 'A20' 'A18'\n",
      " 'C54' 'C45' 'D20' 'A29' 'C95' 'E25' 'C111' 'E36' 'D34' 'D40' 'B39' 'B41'\n",
      " 'B102' 'C123' 'E63' 'C130' 'B86' 'C92' 'A5' 'C51' 'B42' 'C91' 'C125'\n",
      " 'D10 D12' 'B82 B84' 'E50' 'D33' 'C83' 'B94' 'D49' 'D45' 'B69' 'B11' 'E46'\n",
      " 'C39' 'B18' 'D11' 'C93' 'B28' 'C49' 'B52 B54 B56' 'E60' 'C132' 'B37'\n",
      " 'D21' 'D19' 'C124' 'D17' 'B101' 'D28' 'D6' 'D9' 'B80' 'C106' 'B79' 'C47'\n",
      " 'D30' 'C90' 'E38' 'C78' 'C30' 'C118' 'D36' 'D48' 'D47' 'C105' 'B36' 'B30'\n",
      " 'D43' 'B24' 'C2' 'C65' 'B73' 'C104' 'C110' 'C50' 'B3' 'A24' 'A32' 'A11'\n",
      " 'A10' 'B57 B59 B63 B66' 'C28' 'E44' 'A26' 'A6' 'A7' 'C31' 'A19' 'B45'\n",
      " 'E34' 'B78' 'B50' 'C87' 'C116' 'C55 C57' 'D50' 'E68' 'E67' 'C126' 'C68'\n",
      " 'C70' 'C53' 'B19' 'D46' 'D37' 'D26' 'C32' 'C80' 'C82' 'C128' 'E39 E41'\n",
      " 'D' 'F4' 'D56' 'F33' 'E101' 'E77' 'F2' 'D38' 'F' 'F G63' 'F E57' 'F E46'\n",
      " 'F G73' 'E121' 'F E69' 'E10' 'G6' 'F38']\n",
      "embarked: ['S' 'C' 'Q']\n",
      "boat: [2 '11' '13' '3' '10' 'D' '4' '9' '6' 'B' '8' 'A' '5' '7' 'C' '14' '2'\n",
      " '5 9' '1' '15' '5 7' '8 10' '12' '16' '13 15 B' 'C D' '15 16' '13 15']\n",
      "home.dest: ['St Louis, MO' 'Montreal, PQ / Chesterville, ON' 'New York, NY'\n",
      " 'Hudson, NY' 'Belfast, NI' 'Bayside, Queens, NY' 'Montevideo, Uruguay'\n",
      " 'Paris, France' 'Hessle, Yorks' 'Montreal, PQ' 'Winnipeg, MN'\n",
      " 'San Francisco, CA' 'Dowagiac, MI' 'Stockholm, Sweden / Washington, DC'\n",
      " 'Trenton, NJ' 'Glen Ridge, NJ' 'Youngstown, OH'\n",
      " 'Birkdale, England Cleveland, Ohio' 'London / Winnipeg, MB'\n",
      " 'Cooperstown, NY' 'St Leonards-on-Sea, England Ohio' 'Los Angeles, CA'\n",
      " 'Pomeroy, WA' 'Omaha, NE' 'Philadelphia, PA' 'Denver, CO' 'Belmont, MA'\n",
      " 'Washington, DC' 'Austria-Hungary / Germantown, Philadelphia, PA'\n",
      " 'Germantown, Philadelphia, PA' 'Bryn Mawr, PA'\n",
      " 'Ascot, Berkshire / Rochester, NY' 'Little Onn Hall, Staffs' 'Amenia, ND'\n",
      " 'New York, NY / Ithaca, NY' 'London, England'\n",
      " 'Liverpool, England / Belfast' 'Stoughton, MA' 'Victoria, BC'\n",
      " 'Lakewood, NJ' 'Roachdale, IN' 'Milwaukee, WI' 'Lima, Peru' 'Calgary, AB'\n",
      " 'Deephaven, MN / Cedar Rapids, IA' 'London / Paris'\n",
      " 'Mt Airy, Philadelphia, PA' 'Brookline, MA' 'Brooklyn, NY' 'Winnipeg, MB'\n",
      " 'Westcliff-on-Sea, Essex' 'Zurich, Switzerland' 'Scituate, MA'\n",
      " \"St Anne's-on-Sea, Lancashire\" 'Paris, France / New York, NY'\n",
      " 'Greenwich, CT' 'Kingston, Surrey' 'London / Middlesex' 'Brighton, MA'\n",
      " 'London / Birmingham' 'Chicago, IL' 'Indianapolis, IN'\n",
      " 'New York, NY /  Stamford CT' 'Paris, France New York, NY' 'Liverpool'\n",
      " 'Bennington, VT' 'London' 'Buffalo, NY' 'Southington / Noank, CT'\n",
      " 'Boston, MA' 'Portland, OR' 'Stockholm, Sweden' 'Springfield, MA'\n",
      " 'London / New York, NY' 'Brockton, MA' 'Belgium  Montreal, PQ'\n",
      " 'Vancouver, BC' 'Dorchester, MA' 'East Bridgewater, MA' 'Fond du Lac, WI'\n",
      " 'Green Bay, WI' 'Lexington, MA' 'Isle of Wight, England' 'Providence, RI'\n",
      " '?Havana, Cuba' 'Belfast' 'Surbiton Hill, Surrey' 'Isleworth, England'\n",
      " 'Madrid, Spain' 'Toronto, ON' 'Worcester, MA' 'Rotterdam, Netherlands'\n",
      " 'Paris /  New York, NY' 'Seattle, WA' 'London  Vancouver, BC'\n",
      " 'Haverford, PA / Cooperstown, NY' 'Manchester, England'\n",
      " 'New York, NY / Greenwich CT' 'Duluth, MN' 'Basel, Switzerland'\n",
      " 'New Britain, CT' 'St James, Long Island, NY' 'Huntington, WV'\n",
      " 'Streatham, Surrey' 'Minneapolis, MN' 'Tuxedo Park, NY'\n",
      " 'Wimbledon Park, London / Hayling Island, Hants' 'Newark, NJ'\n",
      " 'Haverford, PA' 'Gallipolis, Ohio / ? Paris / New York' 'Cincinatti, OH'\n",
      " 'Haddenfield, NJ' 'London /  East Orange, NJ' 'Albany, NY'\n",
      " 'Mexico City, Mexico' 'East Orange, NJ' 'England Salt Lake City, Utah'\n",
      " 'Brunswick, ME' 'New York, NY / Briarcliff Manor NY' 'Elkins Park, PA'\n",
      " 'Geneva, Switzerland / Radnor, PA' 'Halifax, NS'\n",
      " 'New York, NY / Washington, DC' 'Russia New York, NY'\n",
      " 'Bryn Mawr, PA, USA' 'Buenos Aires, Argentina / New Jersey, NJ'\n",
      " 'Cornwall, England Houghton, MI' 'Warwick, England' 'West Hoboken, NJ'\n",
      " 'Penzance, Cornwall / Akron, OH' 'Guernsey'\n",
      " 'Bristol, Avon / Jacksonville, FL' 'Plymouth, Dorset / Houghton, MI'\n",
      " 'Jacksonville, FL' 'Norwich / New York, NY' 'England'\n",
      " 'Guntur, India / Benton Harbour, MI' 'Rochester, NY'\n",
      " 'St Ives, Cornwall / Calumet, MI' 'Elmira, NY / Orange, NJ'\n",
      " 'Lake Arthur, Chavez County, NM' 'London / Montreal, PQ'\n",
      " 'Cape Town, South Africa / Seattle, WA' 'Skara, Sweden / Rockford, IL'\n",
      " 'Sittingbourne, England / San Diego, CA' 'Southsea, Hants'\n",
      " 'Bangkok, Thailand / Roseville, IL' 'Mamaroneck, NY' 'Bronx, NY'\n",
      " 'Cornwall / Spokane, WA' 'England / San Francisco, CA'\n",
      " 'Hartford, Huntingdonshire' 'Helsinki, Finland Ashtabula, Ohio'\n",
      " 'London / Fort Byron, NY' 'Bishopstoke, Hants / Fayette Valley, ID'\n",
      " 'Pennsylvania' 'Provo, UT' 'Upper Burma, India Pittsburgh, PA'\n",
      " 'St Ives, Cornwall / Hancock, MI' 'Lyndhurst, England'\n",
      " 'London / Staten Island, NY' 'Portugal / Sau Paulo, Brazil'\n",
      " 'Lucca, Italy / California' 'Guernsey / Elizabeth, NJ'\n",
      " 'New Forest, England' 'Southampton' 'Holley, NY' 'Greenport, NY'\n",
      " 'Barcelona, Spain / Havana, Cuba' 'England / Detroit, MI'\n",
      " 'Goteborg, Sweden / Rockford, IL' 'Oslo, Norway Bayonne, NJ'\n",
      " 'England / Philadelphia, PA' 'Cornwall / Houghton, MI'\n",
      " 'Janjgir, India / Pennsylvania' 'Liverpool / Montreal, PQ'\n",
      " 'Cornwall / Clear Creek, CO' 'Cornwall' 'Cornwall / Camden, NJ'\n",
      " 'West Kensington, London' 'Clevedon, England' 'Auburn, NY' 'Detroit, MI'\n",
      " 'Seattle, WA / Toledo, OH' 'Denmark Hill, Surrey / Chicago'\n",
      " 'Walthamstow, England' 'Ilford, Essex / Winnipeg, MB'\n",
      " 'Somerset / Bernardsville, NJ' 'India / Rapid City, SD'\n",
      " 'West Hampstead, London / Neepawa, MB'\n",
      " 'Kontiolahti, Finland / Detroit, MI' 'Cornwall / Akron, OH'\n",
      " 'Devonport, England' 'England / Sacramento, CA' 'Tokyo, Japan'\n",
      " 'Swindon, England' 'North Evington, England'\n",
      " 'St Ives, Cornwall / Houghton, MI' 'Moscow / Bronx, NY'\n",
      " 'India / Pittsburgh, PA' 'Harrisburg, PA' 'Glasgow / Bangor, ME'\n",
      " 'Sweden / Arlington, NJ' 'Paris / Haiti'\n",
      " 'Berne, Switzerland / Central City, IA' 'London / Chicago, IL'\n",
      " 'Weston-Super-Mare, Somerset' 'Southampton / New York, NY' 'Paris'\n",
      " 'Paris / Montreal, PQ' 'St Austall, Cornwall'\n",
      " 'Weston-Super-Mare / Moose Jaw, SK' 'Sydney, Australia' 'Sarnia, ON'\n",
      " 'England / Bennington, VT' 'Chelsea, London'\n",
      " 'Harrow-on-the-Hill, Middlesex' 'Copenhagen, Denmark'\n",
      " 'Guernsey / Montclair, NJ and/or Toledo, Ohio' 'Frankfort, KY'\n",
      " 'Halesworth, England' 'Cambridge, MA' 'Nice, France'\n",
      " 'Cornwall / Hancock, MI' 'Glasgow' 'Cologne, Germany'\n",
      " 'Folkstone, Kent / New York, NY' 'Middleburg Heights, OH'\n",
      " 'Pondersend, England / New Durham, NJ' 'Spain / Havana, Cuba'\n",
      " 'Hamilton, ON' 'St Andrews, Guernsey' 'Woodford County, KY'\n",
      " 'Gunnislake, England / Butte, MT' 'Ilfracombe, Devon'\n",
      " 'Worcester, England' 'Russia' 'Denmark / New York, NY' 'Milford, NH'\n",
      " 'Plymouth, Devon / Detroit, MI' 'Brighton, Sussex' 'Elizabeth, NJ'\n",
      " 'Spain' 'London, England / Marietta, Ohio and Milwaukee, WI'\n",
      " 'Guernsey / Wilmington, DE' 'Hornsey, England' 'Deer Lodge, MT'\n",
      " 'Finland / Minneapolis, MN' 'Finland / Washington, DC'\n",
      " 'Sault St Marie, ON' 'Catford, Kent / Detroit, MI' 'Columbus, OH'\n",
      " 'Bath, England / Massachusetts' 'Plymouth, England'\n",
      " 'Barre, Co Washington, VT' 'Bristol, England / New Britain, CT'\n",
      " 'Aberdeen / Portland, OR' 'England / Hartford, CT'\n",
      " 'Bromsgrove, England / Montreal, PQ' 'Bournmouth, England'\n",
      " 'Guernsey, England / Edgewood, RI' 'Harrow, England'\n",
      " 'Yoevil, England / Cottage Grove, OR' 'East Providence, RI'\n",
      " 'Norway Los Angeles, CA' 'Perkins County, SD'\n",
      " 'Taalintehdas, Finland Hoboken, NJ' 'Greensburg, PA'\n",
      " 'Asarum, Sweden Brooklyn, NY' 'Bournemouth, England' 'Sweden Akeley, MN'\n",
      " 'London, England Norfolk, VA' 'Syria Fredericksburg, VA'\n",
      " 'England Albion, NY' 'Salo, Finland Astoria, OR' 'Argentina'\n",
      " 'Lower Clapton, Middlesex or Erdington, Birmingham'\n",
      " 'Windsor, England New York, NY' 'Bergen, Norway' 'Sweden Winnipeg, MN'\n",
      " 'Ruotsinphyhtaa, Finland New York, NY' 'Vadsbro, Sweden Ministee, MI'\n",
      " 'Hartford, CT' 'Sweden Chicago, IL' 'Bulgaria Chicago, IL'\n",
      " 'Altdorf, Switzerland' 'Sweden Joliet, IL' 'Sweden  Worcester, MA'\n",
      " 'Sweden Worcester, MA' 'Oskarshamn, Sweden Minneapolis, MN' 'Ottawa, ON'\n",
      " 'Krakoryd, Sweden Bloomington, IL' 'Syria Youngstown, OH'\n",
      " 'Ruotsinphytaa, Finland New York, NY' 'Syria New York, NY'\n",
      " 'London Skanteales, NY' 'Syria Ottawa, ON' 'England New York, NY'\n",
      " 'Krakudden, Sweden Moune, IL' 'Tranvik, Finland New York' 'Syria'\n",
      " 'Hong Kong New York, NY' 'Brennes, Norway New York'\n",
      " 'Stockholm, Sweden New York' 'Syria Kent, ON' 'Ireland Chicago, IL'\n",
      " 'Treherbert, Cardiff, Wales'\n",
      " 'Kingwilliamstown, Co Cork, Ireland Glens Falls, NY'\n",
      " 'Medeltorp, Sweden Chicago, IL' 'Bridgerule, Devon'\n",
      " 'Broomfield, Chelmsford, England' 'Co Cork, Ireland Roxbury, MA'\n",
      " 'Kingwilliamstown, Co Cork, Ireland New York, NY'\n",
      " 'Co Cork, Ireland Charlestown, MA' 'Co Sligo, Ireland New York, NY'\n",
      " 'Croatia' 'Ireland Philadelphia, PA' 'Dagsas, Sweden Fower, MN'\n",
      " 'Goteborg, Sweden Huntley, IL' 'Co Longford, Ireland New York, NY'\n",
      " 'Co Sligo, Ireland Hartford, CT' 'St Denys, Southampton, Hants'\n",
      " 'Ireland New York, NY' 'Greece' 'Portugal' 'London Brooklyn, NY'\n",
      " 'Co Limerick, Ireland Sherbrooke, PQ' 'Ireland Brooklyn, NY' 'Ireland'\n",
      " 'Austria' 'England Brooklyn, NY' 'Merrill, WI'\n",
      " 'Bristol, England Cleveland, OH' 'Bournemouth, England Newark, NJ'\n",
      " 'Austria-Hungary' 'Australia Fingal, ND' 'Norrlot, Sweden Chicago, IL'\n",
      " 'Co Athlone, Ireland New York, NY' 'Stanton, IA'\n",
      " 'West Bromwich, England Pontiac, MI' 'Liverpool, England Bedford, OH'\n",
      " 'Tampico, MT' 'Belgium Detroit, MI' 'Devon, England Wichita, KS'\n",
      " 'Bulgaria Coon Rapids, IA' 'Kilmacowen, Co Sligo, Ireland New York, NY'\n",
      " 'England Oglesby, IL' 'Union Hill, NJ' 'London New York, NY'\n",
      " 'Austria Niagara Falls, NY' 'West Haven, CT' 'Tofta, Sweden Joliet, IL'\n",
      " 'Karberg, Sweden Jerome Junction, AZ' 'Effington Rut, SD' 'Illinois, USA'\n",
      " 'Aughnacliff, Co Longford, Ireland New York, NY' 'Italy Philadelphia, PA'\n",
      " 'Rotherfield, Sussex, England Essex Co, MA'\n",
      " 'Bridgwater, Somerset, England' 'Co Clare, Ireland Washington, DC'\n",
      " 'Strood, Kent, England Detroit, MI'\n",
      " 'Wiltshire, England Niagara Falls, NY' 'Dorking, Surrey, England'\n",
      " 'Foresvik, Norway Portland, ND' 'Waukegan, Chicago, IL'\n",
      " 'Myren, Sweden New York, NY' 'Finland Sudbury, ON'\n",
      " 'Oslo, Norway Cameron, WI' 'Antwerp, Belgium / Stanton, OH']\n"
     ]
    }
   ],
   "source": [
    "for col in categorical_columns:\n",
    "    print(f\"{col}: {df[col].unique()}\")\n"
   ]
  },
  {
   "cell_type": "code",
   "execution_count": 61,
   "metadata": {},
   "outputs": [],
   "source": [
    "df[categorical_columns] = df[categorical_columns].astype(str)\n"
   ]
  },
  {
   "cell_type": "code",
   "execution_count": 62,
   "metadata": {},
   "outputs": [
    {
     "name": "stdout",
     "output_type": "stream",
     "text": [
      "Encoding Successful! New DataFrame shape: (1309, 2823)\n"
     ]
    }
   ],
   "source": [
    "if len(categorical_columns) > 0: \n",
    "    encoder = OneHotEncoder(drop='first', sparse_output=False)\n",
    "    encoded_columns = encoder.fit_transform(df[categorical_columns])\n",
    "    encoded_df = pd.DataFrame(encoded_columns, columns=encoder.get_feature_names_out(categorical_columns))\n",
    "    df.drop(columns=categorical_columns, inplace=True)\n",
    "    df = pd.concat([df, encoded_df], axis=1)\n",
    "\n",
    "    print(\"Encoding Successful! New DataFrame shape:\", df.shape)\n",
    "else:\n",
    "    print(\"No categorical columns found to encode.\")\n"
   ]
  },
  {
   "cell_type": "code",
   "execution_count": 65,
   "metadata": {},
   "outputs": [],
   "source": [
    "for col in df.select_dtypes(include=['object']).columns:\n",
    "    print(f\"{col}: {df[col].nunique()} unique values\")\n"
   ]
  },
  {
   "cell_type": "code",
   "execution_count": 67,
   "metadata": {},
   "outputs": [
    {
     "name": "stdout",
     "output_type": "stream",
     "text": [
      "Index([], dtype='object')\n"
     ]
    }
   ],
   "source": [
    "print(df.select_dtypes(include=['object']).columns)\n"
   ]
  },
  {
   "cell_type": "markdown",
   "metadata": {},
   "source": [
    "No categorical values"
   ]
  },
  {
   "cell_type": "code",
   "execution_count": 68,
   "metadata": {},
   "outputs": [
    {
     "name": "stdout",
     "output_type": "stream",
     "text": [
      "<class 'pandas.core.frame.DataFrame'>\n",
      "RangeIndex: 1309 entries, 0 to 1308\n",
      "Columns: 2823 entries, pclass to home.dest_Zurich, Switzerland\n",
      "dtypes: float64(2819), int64(4)\n",
      "memory usage: 28.2 MB\n",
      "None\n"
     ]
    }
   ],
   "source": [
    "print(df.info())\n"
   ]
  },
  {
   "cell_type": "code",
   "execution_count": 69,
   "metadata": {},
   "outputs": [
    {
     "name": "stdout",
     "output_type": "stream",
     "text": [
      "Dropped high-cardinality columns: []\n"
     ]
    }
   ],
   "source": [
    "high_cardinality_cols = [col for col in df.select_dtypes(include=['object']).columns if df[col].nunique() > 100]\n",
    "df.drop(columns=high_cardinality_cols, inplace=True)\n",
    "print(\"Dropped high-cardinality columns:\", high_cardinality_cols)\n"
   ]
  },
  {
   "cell_type": "markdown",
   "metadata": {},
   "source": [
    "I realized I had too much data, as there were too many unique values so it created too many columns"
   ]
  },
  {
   "cell_type": "code",
   "execution_count": 70,
   "metadata": {},
   "outputs": [
    {
     "name": "stdout",
     "output_type": "stream",
     "text": [
      "(1309, 2823)\n"
     ]
    }
   ],
   "source": [
    "print(df.shape)\n"
   ]
  },
  {
   "cell_type": "code",
   "execution_count": null,
   "metadata": {},
   "outputs": [
    {
     "name": "stdout",
     "output_type": "stream",
     "text": [
      "New shape after PCA: (1309, 100)\n"
     ]
    }
   ],
   "source": [
    "from sklearn.decomposition import PCA\n",
    "\n",
    "pca = PCA(n_components=100)  \n",
    "df_pca = pca.fit_transform(df)\n",
    "\n",
    "print(\"New shape after PCA:\", df_pca.shape)  \n"
   ]
  },
  {
   "cell_type": "code",
   "execution_count": 72,
   "metadata": {},
   "outputs": [
    {
     "name": "stdout",
     "output_type": "stream",
     "text": [
      "Final dataset saved successfully.\n"
     ]
    }
   ],
   "source": [
    "df.to_csv(\"final_encoded_dataset.csv\", index=False)\n",
    "print(\"Final dataset saved successfully.\")\n"
   ]
  },
  {
   "cell_type": "markdown",
   "metadata": {},
   "source": [
    "TASK 4"
   ]
  },
  {
   "cell_type": "code",
   "execution_count": 73,
   "metadata": {},
   "outputs": [
    {
     "name": "stdout",
     "output_type": "stream",
     "text": [
      "Numerical columns to scale: Index(['pclass', 'survived', 'age', 'sibsp', 'parch', 'fare', 'body',\n",
      "       'name_Abbott, Master. Eugene Joseph',\n",
      "       'name_Abbott, Mr. Rossmore Edward',\n",
      "       'name_Abbott, Mrs. Stanton (Rosa Hunt)',\n",
      "       ...\n",
      "       'home.dest_Wimbledon Park, London / Hayling Island, Hants',\n",
      "       'home.dest_Windsor, England New York, NY', 'home.dest_Winnipeg, MB',\n",
      "       'home.dest_Winnipeg, MN', 'home.dest_Woodford County, KY',\n",
      "       'home.dest_Worcester, England', 'home.dest_Worcester, MA',\n",
      "       'home.dest_Yoevil, England / Cottage Grove, OR',\n",
      "       'home.dest_Youngstown, OH', 'home.dest_Zurich, Switzerland'],\n",
      "      dtype='object', length=2823)\n"
     ]
    }
   ],
   "source": [
    "numerical_columns = df.select_dtypes(include=['int64', 'float64']).columns\n",
    "print(\"Numerical columns to scale:\", numerical_columns)\n"
   ]
  },
  {
   "cell_type": "markdown",
   "metadata": {},
   "source": [
    "This shows all the numerical values"
   ]
  },
  {
   "cell_type": "code",
   "execution_count": 74,
   "metadata": {},
   "outputs": [
    {
     "name": "stdout",
     "output_type": "stream",
     "text": [
      "Standardization applied successfully!\n"
     ]
    }
   ],
   "source": [
    "from sklearn.preprocessing import StandardScaler\n",
    "\n",
    "scaler = StandardScaler()\n",
    "df_standardized = df.copy()\n",
    "df_standardized[numerical_columns] = scaler.fit_transform(df[numerical_columns])\n",
    "\n",
    "print(\"Standardization applied successfully!\")\n"
   ]
  },
  {
   "cell_type": "markdown",
   "metadata": {},
   "source": [
    "Standardization centers data around 0 and scales it so that the standard deviation is 1."
   ]
  },
  {
   "cell_type": "code",
   "execution_count": null,
   "metadata": {},
   "outputs": [],
   "source": [
    "from sklearn.preprocessing import MinMaxScaler"
   ]
  },
  {
   "cell_type": "code",
   "execution_count": 76,
   "metadata": {},
   "outputs": [
    {
     "name": "stdout",
     "output_type": "stream",
     "text": [
      "Normalization applied successfully!\n"
     ]
    }
   ],
   "source": [
    "scaler = MinMaxScaler()\n",
    "df_normalized = df.copy()  \n",
    "df_normalized[numerical_columns] = scaler.fit_transform(df[numerical_columns])\n",
    "\n",
    "print(\"Normalization applied successfully!\")\n"
   ]
  },
  {
   "cell_type": "markdown",
   "metadata": {},
   "source": [
    "Normalization scales data between 0 and 1 using the formula \n",
    "(\n",
    "𝑥\n",
    "−\n",
    "min\n",
    ")\n",
    "/\n",
    "(\n",
    "max\n",
    "−\n",
    "min\n",
    ")\n",
    "(x−min)/(max−min), making it useful for models like KNN and Neural Networks that rely on distance measurements. Standardization, on the other hand, transforms data to have a mean of 0 and a standard deviation of 1 using \n",
    "(\n",
    "𝑥\n",
    "−\n",
    "mean\n",
    ")\n",
    "/\n",
    "std\n",
    "(x−mean)/std, which is better for models like Logistic Regression and SVM that assume normally distributed data. Normalization is ideal when feature ranges vary significantly, while standardization works best for normally distributed data."
   ]
  },
  {
   "cell_type": "code",
   "execution_count": 77,
   "metadata": {},
   "outputs": [
    {
     "name": "stdout",
     "output_type": "stream",
     "text": [
      "Final datasets saved successfully!\n"
     ]
    }
   ],
   "source": [
    "df_standardized.to_csv(\"standardized_dataset.csv\", index=False)\n",
    "df_normalized.to_csv(\"normalized_dataset.csv\", index=False)\n",
    "\n",
    "print(\"Final datasets saved successfully!\")"
   ]
  }
 ],
 "metadata": {
  "kernelspec": {
   "display_name": "Python 3",
   "language": "python",
   "name": "python3"
  },
  "language_info": {
   "codemirror_mode": {
    "name": "ipython",
    "version": 3
   },
   "file_extension": ".py",
   "mimetype": "text/x-python",
   "name": "python",
   "nbconvert_exporter": "python",
   "pygments_lexer": "ipython3",
   "version": "3.12.6"
  }
 },
 "nbformat": 4,
 "nbformat_minor": 2
}
